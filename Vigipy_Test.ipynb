{
 "cells": [
  {
   "cell_type": "code",
   "execution_count": 1,
   "id": "f9abb5bf",
   "metadata": {
    "scrolled": true
   },
   "outputs": [
    {
     "name": "stdout",
     "output_type": "stream",
     "text": [
      "running bdist_wheel\n",
      "running build\n",
      "running build_py\n",
      "installing to build\\bdist.win-amd64\\wheel\n",
      "running install\n",
      "running install_lib\n",
      "creating build\\bdist.win-amd64\\wheel\n",
      "creating build\\bdist.win-amd64\\wheel\\vigipy\n",
      "creating build\\bdist.win-amd64\\wheel\\vigipy\\BCPNN\n",
      "copying build\\lib\\vigipy\\BCPNN\\BCPNN.py -> build\\bdist.win-amd64\\wheel\\.\\vigipy\\BCPNN\n",
      "copying build\\lib\\vigipy\\BCPNN\\__init__.py -> build\\bdist.win-amd64\\wheel\\.\\vigipy\\BCPNN\n",
      "creating build\\bdist.win-amd64\\wheel\\vigipy\\GPS\n",
      "copying build\\lib\\vigipy\\GPS\\GPS.py -> build\\bdist.win-amd64\\wheel\\.\\vigipy\\GPS\n",
      "copying build\\lib\\vigipy\\GPS\\__init__.py -> build\\bdist.win-amd64\\wheel\\.\\vigipy\\GPS\n",
      "creating build\\bdist.win-amd64\\wheel\\vigipy\\LongitudinalModel\n",
      "copying build\\lib\\vigipy\\LongitudinalModel\\LongitudinalModel.py -> build\\bdist.win-amd64\\wheel\\.\\vigipy\\LongitudinalModel\n",
      "copying build\\lib\\vigipy\\LongitudinalModel\\__init__.py -> build\\bdist.win-amd64\\wheel\\.\\vigipy\\LongitudinalModel\n",
      "creating build\\bdist.win-amd64\\wheel\\vigipy\\PRR\n",
      "copying build\\lib\\vigipy\\PRR\\PRR.py -> build\\bdist.win-amd64\\wheel\\.\\vigipy\\PRR\n",
      "copying build\\lib\\vigipy\\PRR\\__init__.py -> build\\bdist.win-amd64\\wheel\\.\\vigipy\\PRR\n",
      "creating build\\bdist.win-amd64\\wheel\\vigipy\\RFET\n",
      "copying build\\lib\\vigipy\\RFET\\RFET.py -> build\\bdist.win-amd64\\wheel\\.\\vigipy\\RFET\n",
      "copying build\\lib\\vigipy\\RFET\\__init__.py -> build\\bdist.win-amd64\\wheel\\.\\vigipy\\RFET\n",
      "creating build\\bdist.win-amd64\\wheel\\vigipy\\ROR\n",
      "copying build\\lib\\vigipy\\ROR\\ROR.py -> build\\bdist.win-amd64\\wheel\\.\\vigipy\\ROR\n",
      "copying build\\lib\\vigipy\\ROR\\__init__.py -> build\\bdist.win-amd64\\wheel\\.\\vigipy\\ROR\n",
      "creating build\\bdist.win-amd64\\wheel\\vigipy\\utils\n",
      "copying build\\lib\\vigipy\\utils\\Container.py -> build\\bdist.win-amd64\\wheel\\.\\vigipy\\utils\n",
      "copying build\\lib\\vigipy\\utils\\data_prep.py -> build\\bdist.win-amd64\\wheel\\.\\vigipy\\utils\n",
      "creating build\\bdist.win-amd64\\wheel\\vigipy\\utils\\distribution_funcs\n",
      "copying build\\lib\\vigipy\\utils\\distribution_funcs\\bratio.py -> build\\bdist.win-amd64\\wheel\\.\\vigipy\\utils\\distribution_funcs\n",
      "copying build\\lib\\vigipy\\utils\\distribution_funcs\\dpq_handling.py -> build\\bdist.win-amd64\\wheel\\.\\vigipy\\utils\\distribution_funcs\n",
      "copying build\\lib\\vigipy\\utils\\distribution_funcs\\lgammacor.py -> build\\bdist.win-amd64\\wheel\\.\\vigipy\\utils\\distribution_funcs\n",
      "copying build\\lib\\vigipy\\utils\\distribution_funcs\\lgammafn.py -> build\\bdist.win-amd64\\wheel\\.\\vigipy\\utils\\distribution_funcs\n",
      "copying build\\lib\\vigipy\\utils\\distribution_funcs\\nbinom_utils.py -> build\\bdist.win-amd64\\wheel\\.\\vigipy\\utils\\distribution_funcs\n",
      "copying build\\lib\\vigipy\\utils\\distribution_funcs\\negative_binomials.py -> build\\bdist.win-amd64\\wheel\\.\\vigipy\\utils\\distribution_funcs\n",
      "copying build\\lib\\vigipy\\utils\\distribution_funcs\\quantile_funcs.py -> build\\bdist.win-amd64\\wheel\\.\\vigipy\\utils\\distribution_funcs\n",
      "copying build\\lib\\vigipy\\utils\\distribution_funcs\\__init__.py -> build\\bdist.win-amd64\\wheel\\.\\vigipy\\utils\\distribution_funcs\n",
      "copying build\\lib\\vigipy\\utils\\expectations.py -> build\\bdist.win-amd64\\wheel\\.\\vigipy\\utils\n",
      "copying build\\lib\\vigipy\\utils\\lbe.py -> build\\bdist.win-amd64\\wheel\\.\\vigipy\\utils\n",
      "copying build\\lib\\vigipy\\utils\\__init__.py -> build\\bdist.win-amd64\\wheel\\.\\vigipy\\utils\n",
      "copying build\\lib\\vigipy\\__init__.py -> build\\bdist.win-amd64\\wheel\\.\\vigipy\n",
      "running install_egg_info\n",
      "running egg_info\n",
      "writing src\\vigipy.egg-info\\PKG-INFO\n",
      "writing dependency_links to src\\vigipy.egg-info\\dependency_links.txt\n",
      "writing requirements to src\\vigipy.egg-info\\requires.txt\n",
      "writing top-level names to src\\vigipy.egg-info\\top_level.txt\n",
      "reading manifest file 'src\\vigipy.egg-info\\SOURCES.txt'\n",
      "writing manifest file 'src\\vigipy.egg-info\\SOURCES.txt'\n",
      "Copying src\\vigipy.egg-info to build\\bdist.win-amd64\\wheel\\.\\vigipy-1.3.0-py3.8.egg-info\n",
      "running install_scripts\n",
      "adding license file \"LICENSE\" (matched pattern \"LICEN[CS]E*\")\n",
      "creating build\\bdist.win-amd64\\wheel\\vigipy-1.3.0.dist-info\\WHEEL\n",
      "creating 'dist\\vigipy-1.3.0-py3-none-any.whl' and adding 'build\\bdist.win-amd64\\wheel' to it\n",
      "adding 'vigipy/__init__.py'\n",
      "adding 'vigipy/BCPNN/BCPNN.py'\n",
      "adding 'vigipy/BCPNN/__init__.py'\n",
      "adding 'vigipy/GPS/GPS.py'\n",
      "adding 'vigipy/GPS/__init__.py'\n",
      "adding 'vigipy/LongitudinalModel/LongitudinalModel.py'\n",
      "adding 'vigipy/LongitudinalModel/__init__.py'\n",
      "adding 'vigipy/PRR/PRR.py'\n",
      "adding 'vigipy/PRR/__init__.py'\n",
      "adding 'vigipy/RFET/RFET.py'\n",
      "adding 'vigipy/RFET/__init__.py'\n",
      "adding 'vigipy/ROR/ROR.py'\n",
      "adding 'vigipy/ROR/__init__.py'\n",
      "adding 'vigipy/utils/Container.py'\n",
      "adding 'vigipy/utils/__init__.py'\n",
      "adding 'vigipy/utils/data_prep.py'\n",
      "adding 'vigipy/utils/expectations.py'\n",
      "adding 'vigipy/utils/lbe.py'\n",
      "adding 'vigipy/utils/distribution_funcs/__init__.py'\n",
      "adding 'vigipy/utils/distribution_funcs/bratio.py'\n",
      "adding 'vigipy/utils/distribution_funcs/dpq_handling.py'\n",
      "adding 'vigipy/utils/distribution_funcs/lgammacor.py'\n",
      "adding 'vigipy/utils/distribution_funcs/lgammafn.py'\n",
      "adding 'vigipy/utils/distribution_funcs/nbinom_utils.py'\n",
      "adding 'vigipy/utils/distribution_funcs/negative_binomials.py'\n",
      "adding 'vigipy/utils/distribution_funcs/quantile_funcs.py'\n",
      "adding 'vigipy-1.3.0.dist-info/LICENSE'\n",
      "adding 'vigipy-1.3.0.dist-info/METADATA'\n",
      "adding 'vigipy-1.3.0.dist-info/WHEEL'\n",
      "adding 'vigipy-1.3.0.dist-info/top_level.txt'\n",
      "adding 'vigipy-1.3.0.dist-info/RECORD'\n",
      "removing build\\bdist.win-amd64\\wheel\n",
      "Processing c:\\users\\purnendu.sekhar.das\\onedrive - accenture\\backup\\documents\\projects\\bd\\pfizer breakthrough challenge pv\\codes\\vigipy-master\\dist\\vigipy-1.3.0-py3-none-any.whl\n",
      "Requirement already satisfied: pandas in c:\\users\\purnendu.sekhar.das\\anaconda3\\lib\\site-packages (from vigipy==1.3.0) (1.2.4)\n",
      "Requirement already satisfied: patsy in c:\\users\\purnendu.sekhar.das\\anaconda3\\lib\\site-packages (from vigipy==1.3.0) (0.5.1)\n",
      "Requirement already satisfied: sympy in c:\\users\\purnendu.sekhar.das\\anaconda3\\lib\\site-packages (from vigipy==1.3.0) (1.8)\n",
      "Requirement already satisfied: scipy in c:\\users\\purnendu.sekhar.das\\anaconda3\\lib\\site-packages (from vigipy==1.3.0) (1.6.2)\n",
      "Requirement already satisfied: numpy in c:\\users\\purnendu.sekhar.das\\anaconda3\\lib\\site-packages (from vigipy==1.3.0) (1.20.1)\n",
      "Requirement already satisfied: statsmodels in c:\\users\\purnendu.sekhar.das\\anaconda3\\lib\\site-packages (from vigipy==1.3.0) (0.12.2)\n",
      "Requirement already satisfied: python-dateutil>=2.7.3 in c:\\users\\purnendu.sekhar.das\\anaconda3\\lib\\site-packages (from pandas->vigipy==1.3.0) (2.8.1)\n",
      "Requirement already satisfied: pytz>=2017.3 in c:\\users\\purnendu.sekhar.das\\anaconda3\\lib\\site-packages (from pandas->vigipy==1.3.0) (2021.1)\n",
      "Requirement already satisfied: six>=1.5 in c:\\users\\purnendu.sekhar.das\\anaconda3\\lib\\site-packages (from python-dateutil>=2.7.3->pandas->vigipy==1.3.0) (1.15.0)\n",
      "Requirement already satisfied: mpmath>=0.19 in c:\\users\\purnendu.sekhar.das\\anaconda3\\lib\\site-packages (from sympy->vigipy==1.3.0) (1.2.1)\n",
      "vigipy is already installed with the same version as the provided wheel. Use --force-reinstall to force an installation of the wheel.\n"
     ]
    }
   ],
   "source": [
    "!python setup.py bdist_wheel\n",
    "\n",
    "!pip install dist/vigipy-1.3.0-py3-none-any.whl"
   ]
  },
  {
   "cell_type": "code",
   "execution_count": 4,
   "id": "eb5eaf2e",
   "metadata": {
    "scrolled": true
   },
   "outputs": [
    {
     "name": "stdout",
     "output_type": "stream",
     "text": [
      "Processing c:\\users\\purnendu.sekhar.das\\onedrive - accenture\\backup\\documents\\projects\\bd\\pfizer breakthrough challenge pv\\codes\\vigipy-master\\dist\\vigipy-1.3.0-py3-none-any.whl\n",
      "Requirement already satisfied: sympy in c:\\users\\purnendu.sekhar.das\\anaconda3\\lib\\site-packages (from vigipy==1.3.0) (1.8)\n",
      "Requirement already satisfied: scipy in c:\\users\\purnendu.sekhar.das\\anaconda3\\lib\\site-packages (from vigipy==1.3.0) (1.6.2)\n",
      "Requirement already satisfied: numpy in c:\\users\\purnendu.sekhar.das\\anaconda3\\lib\\site-packages (from vigipy==1.3.0) (1.20.1)\n",
      "Requirement already satisfied: statsmodels in c:\\users\\purnendu.sekhar.das\\anaconda3\\lib\\site-packages (from vigipy==1.3.0) (0.12.2)\n",
      "Requirement already satisfied: patsy in c:\\users\\purnendu.sekhar.das\\anaconda3\\lib\\site-packages (from vigipy==1.3.0) (0.5.1)\n",
      "Requirement already satisfied: pandas in c:\\users\\purnendu.sekhar.das\\anaconda3\\lib\\site-packages (from vigipy==1.3.0) (1.2.4)\n",
      "Requirement already satisfied: python-dateutil>=2.7.3 in c:\\users\\purnendu.sekhar.das\\anaconda3\\lib\\site-packages (from pandas->vigipy==1.3.0) (2.8.1)\n",
      "Requirement already satisfied: pytz>=2017.3 in c:\\users\\purnendu.sekhar.das\\anaconda3\\lib\\site-packages (from pandas->vigipy==1.3.0) (2021.1)\n",
      "Requirement already satisfied: six>=1.5 in c:\\users\\purnendu.sekhar.das\\anaconda3\\lib\\site-packages (from python-dateutil>=2.7.3->pandas->vigipy==1.3.0) (1.15.0)\n",
      "Requirement already satisfied: mpmath>=0.19 in c:\\users\\purnendu.sekhar.das\\anaconda3\\lib\\site-packages (from sympy->vigipy==1.3.0) (1.2.1)\n",
      "Installing collected packages: vigipy\n",
      "Successfully installed vigipy-1.3.0\n"
     ]
    }
   ],
   "source": [
    "# Create the vigipy repo and install; have to run this from cmd/Anaconda prompt\n",
    "# first line build the wheel file and second line installs it through cmd prompt\n",
    "\n",
    "# python /setup.py bdist_wheel\n",
    "\n",
    "!pip install dist/vigipy-1.3.0-py3-none-any.whl\n"
   ]
  },
  {
   "cell_type": "code",
   "execution_count": 2,
   "id": "4e8b4d5e",
   "metadata": {},
   "outputs": [],
   "source": [
    "# !pip install vigipy\n",
    "\n",
    "from vigipy import *\n",
    "import pandas as pd\n",
    "\n",
    "#This is expected to have columns: ['AE', 'name', 'count'] ('date' is optional for longitudinal models)\n",
    "\n",
    "df = pd.read_csv('AE_count_data.csv')\n"
   ]
  },
  {
   "cell_type": "code",
   "execution_count": 3,
   "id": "46657ca8",
   "metadata": {},
   "outputs": [
    {
     "data": {
      "text/plain": [
       "(4359, 4)"
      ]
     },
     "execution_count": 3,
     "metadata": {},
     "output_type": "execute_result"
    }
   ],
   "source": [
    "df.shape"
   ]
  },
  {
   "cell_type": "code",
   "execution_count": 4,
   "id": "a93adfe5",
   "metadata": {
    "scrolled": true
   },
   "outputs": [
    {
     "data": {
      "text/html": [
       "<div>\n",
       "<style scoped>\n",
       "    .dataframe tbody tr th:only-of-type {\n",
       "        vertical-align: middle;\n",
       "    }\n",
       "\n",
       "    .dataframe tbody tr th {\n",
       "        vertical-align: top;\n",
       "    }\n",
       "\n",
       "    .dataframe thead th {\n",
       "        text-align: right;\n",
       "    }\n",
       "</style>\n",
       "<table border=\"1\" class=\"dataframe\">\n",
       "  <thead>\n",
       "    <tr style=\"text-align: right;\">\n",
       "      <th></th>\n",
       "      <th>AE</th>\n",
       "      <th>count</th>\n",
       "      <th>name</th>\n",
       "      <th>date</th>\n",
       "    </tr>\n",
       "  </thead>\n",
       "  <tbody>\n",
       "    <tr>\n",
       "      <th>0</th>\n",
       "      <td>ABDOMINAL SCARRING</td>\n",
       "      <td>1</td>\n",
       "      <td>PELVISOFT</td>\n",
       "      <td>9/12/2013</td>\n",
       "    </tr>\n",
       "    <tr>\n",
       "      <th>1</th>\n",
       "      <td>ABDOMINAL WALL DEFECTS</td>\n",
       "      <td>1</td>\n",
       "      <td>STRATTICE</td>\n",
       "      <td>1/26/2012</td>\n",
       "    </tr>\n",
       "    <tr>\n",
       "      <th>2</th>\n",
       "      <td>Abdomen distended</td>\n",
       "      <td>1</td>\n",
       "      <td>STRATTICE</td>\n",
       "      <td>9/2/2011</td>\n",
       "    </tr>\n",
       "    <tr>\n",
       "      <th>3</th>\n",
       "      <td>Abdomen distended</td>\n",
       "      <td>1</td>\n",
       "      <td>STRATTICE</td>\n",
       "      <td>2/1/2011</td>\n",
       "    </tr>\n",
       "    <tr>\n",
       "      <th>4</th>\n",
       "      <td>Abdominal Abscess</td>\n",
       "      <td>1</td>\n",
       "      <td>STRATTICE</td>\n",
       "      <td>9/18/2012</td>\n",
       "    </tr>\n",
       "    <tr>\n",
       "      <th>5</th>\n",
       "      <td>Abdominal Abscess</td>\n",
       "      <td>1</td>\n",
       "      <td>COLLAMEND</td>\n",
       "      <td>9/21/2006</td>\n",
       "    </tr>\n",
       "    <tr>\n",
       "      <th>6</th>\n",
       "      <td>Abdominal Abscess</td>\n",
       "      <td>1</td>\n",
       "      <td>XENMATRIX</td>\n",
       "      <td>10/9/2010</td>\n",
       "    </tr>\n",
       "    <tr>\n",
       "      <th>7</th>\n",
       "      <td>Abdominal Abscess</td>\n",
       "      <td>1</td>\n",
       "      <td>XENMATRIX</td>\n",
       "      <td>10/9/2010</td>\n",
       "    </tr>\n",
       "    <tr>\n",
       "      <th>8</th>\n",
       "      <td>Abdominal Abscess</td>\n",
       "      <td>1</td>\n",
       "      <td>PELVISOFT</td>\n",
       "      <td>6/5/2007</td>\n",
       "    </tr>\n",
       "    <tr>\n",
       "      <th>9</th>\n",
       "      <td>Abdominal Abscess</td>\n",
       "      <td>1</td>\n",
       "      <td>XENMATRIX</td>\n",
       "      <td>3/4/2011</td>\n",
       "    </tr>\n",
       "  </tbody>\n",
       "</table>\n",
       "</div>"
      ],
      "text/plain": [
       "                       AE  count       name       date\n",
       "0      ABDOMINAL SCARRING      1  PELVISOFT  9/12/2013\n",
       "1  ABDOMINAL WALL DEFECTS      1  STRATTICE  1/26/2012\n",
       "2       Abdomen distended      1  STRATTICE   9/2/2011\n",
       "3       Abdomen distended      1  STRATTICE   2/1/2011\n",
       "4       Abdominal Abscess      1  STRATTICE  9/18/2012\n",
       "5       Abdominal Abscess      1  COLLAMEND  9/21/2006\n",
       "6       Abdominal Abscess      1  XENMATRIX  10/9/2010\n",
       "7       Abdominal Abscess      1  XENMATRIX  10/9/2010\n",
       "8       Abdominal Abscess      1  PELVISOFT   6/5/2007\n",
       "9       Abdominal Abscess      1  XENMATRIX   3/4/2011"
      ]
     },
     "execution_count": 4,
     "metadata": {},
     "output_type": "execute_result"
    }
   ],
   "source": [
    "df.head(10)"
   ]
  },
  {
   "cell_type": "code",
   "execution_count": 5,
   "id": "d0a74a70",
   "metadata": {},
   "outputs": [],
   "source": [
    "from vigipy import convert\n",
    "\n",
    "vigipy_df = convert(df)"
   ]
  },
  {
   "cell_type": "code",
   "execution_count": 6,
   "id": "700eccc2",
   "metadata": {},
   "outputs": [
    {
     "data": {
      "text/plain": [
       "<vigipy.utils.Container.Container at 0x226ef20b430>"
      ]
     },
     "execution_count": 6,
     "metadata": {},
     "output_type": "execute_result"
    }
   ],
   "source": [
    "vigipy_df"
   ]
  },
  {
   "cell_type": "code",
   "execution_count": 8,
   "id": "c7049b67",
   "metadata": {},
   "outputs": [
    {
     "name": "stdout",
     "output_type": "stream",
     "text": [
      "Wall time: 12.2 s\n"
     ]
    }
   ],
   "source": [
    "%%time\n",
    "\n",
    "# My personal favorite model to run. With 'log2' or 'quantile' as the statistic\n",
    "\n",
    "results = gps(vigipy_df, min_events=5, decision_metric='rank',\n",
    "              decision_thres=1, ranking_statistic='log2')\n",
    "\n",
    "results.signals.to_excel('possible_signals1.xlsx', index=False)"
   ]
  },
  {
   "cell_type": "code",
   "execution_count": null,
   "id": "c169e799",
   "metadata": {},
   "outputs": [],
   "source": []
  }
 ],
 "metadata": {
  "kernelspec": {
   "display_name": "Python 3",
   "language": "python",
   "name": "python3"
  },
  "language_info": {
   "codemirror_mode": {
    "name": "ipython",
    "version": 3
   },
   "file_extension": ".py",
   "mimetype": "text/x-python",
   "name": "python",
   "nbconvert_exporter": "python",
   "pygments_lexer": "ipython3",
   "version": "3.8.8"
  }
 },
 "nbformat": 4,
 "nbformat_minor": 5
}
